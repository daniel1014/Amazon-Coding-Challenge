{
 "cells": [
  {
   "cell_type": "code",
   "execution_count": 5,
   "metadata": {},
   "outputs": [],
   "source": [
    "import random\n",
    "class Solution(object):\n",
    "    def __init__(self):\n",
    "        \"\"\" Implement a 10x10 grid that contains a starting point on (0,0), delivery point on (9,9) and the obstacles provided\"\"\"\n",
    "        self.X=0\n",
    "        self.Y=0\n",
    "        self.delivery=(9,9)\n",
    "        self.obstacles=[(9,7),(8,7),(6,7),(6,8),(8,8)]\n",
    "        \n",
    "    def move(self):\n",
    "        \"\"\" This algorithm can calculate a valid path avoiding the obstacles and ultimate the shortest route reaching the delivery point\"\"\"\n",
    "        diagonal=0\n",
    "        path=[]\n",
    "        steps=0\n",
    "        N = len(self.obstacles)    \n",
    "        while True:\n",
    "            if self.X==9 and self.Y<9:\n",
    "                self.Y+=1\n",
    "                path.append((self.X,self.Y))                        # save the record of path\n",
    "                steps+=1 \n",
    "                print(f'path:{path}, number of steps: {steps}') \n",
    "                continue\n",
    "            if self.Y==9 and self.X<9:\n",
    "                self.X+=1\n",
    "                path.append((self.X,self.Y))                        # save the record of path\n",
    "                steps+=1 \n",
    "                print(f'path:{path}, number of steps: {steps}') \n",
    "                continue\n",
    "            if self.X==self.delivery[0] and self.Y==self.delivery[1]:\n",
    "                break\n",
    "            for i in range(N):\n",
    "                if (self.X+1,self.Y+1)!=self.obstacles[i]:      # check if there is no obstacle on the diagonally point of robot for each obstacle\n",
    "                    diagonal+=1                                 # accumulate counter, only move when the counter reach a specified number to ensure all of the obstacles are not in place\n",
    "                elif (self.X+1,self.Y)!=self.obstacles[i]:      # check if there is no obstacle on the right of robot\n",
    "                    self.X+=1                                   # go right\n",
    "                    print(f'going right, current point:({self.X},{self.Y}), faced obstacle:({self.obstacles[i][0]},{self.obstacles[i][1]})')\n",
    "                    break\n",
    "                else:                                           # check for remaining circumstance, which is no obstacle on the bottom of robot\n",
    "                    self.Y+=1                                   # go down \n",
    "                    print(f'going down, current point:({self.X},{self.Y}), faced obstacle:({self.obstacles[i][0]},{self.obstacles[i][1]})')\n",
    "                    break\n",
    "            if diagonal<N:                                      # reset diagonal counter to avoid improper diagonally move\n",
    "                diagonal=0\n",
    "            if diagonal==N:                                     # move diagonally \n",
    "                self.X+=1\n",
    "                self.Y+=1\n",
    "                diagonal=0                                      # reset diagonal counter\n",
    "                print(f'going diagonal, current point: ({self.X},{self.Y})')\n",
    "            path.append((self.X,self.Y))                        # save the record of path\n",
    "            steps+=1                                            # record steps\n",
    "            print(f'path:{path}, number of steps: {steps}')      # print result\n",
    "            \n",
    "    def add(self,num):\n",
    "        for i in range(num):\n",
    "            x,y = random.randint(0,10),random.randint(0,10)\n",
    "            self.obstacles.append((x,y))\n",
    "    \n",
    "    def test(self):\n",
    "        return self.obstacles\n",
    "   "
   ]
  },
  {
   "cell_type": "code",
   "execution_count": 6,
   "metadata": {},
   "outputs": [
    {
     "name": "stdout",
     "output_type": "stream",
     "text": [
      "going diagonal, current point: (1,1)\n",
      "path:[(1, 1)], number of steps: 1\n",
      "going diagonal, current point: (2,2)\n",
      "path:[(1, 1), (2, 2)], number of steps: 2\n",
      "going diagonal, current point: (3,3)\n",
      "path:[(1, 1), (2, 2), (3, 3)], number of steps: 3\n",
      "going diagonal, current point: (4,4)\n",
      "path:[(1, 1), (2, 2), (3, 3), (4, 4)], number of steps: 4\n",
      "going diagonal, current point: (5,5)\n",
      "path:[(1, 1), (2, 2), (3, 3), (4, 4), (5, 5)], number of steps: 5\n",
      "going diagonal, current point: (6,6)\n",
      "path:[(1, 1), (2, 2), (3, 3), (4, 4), (5, 5), (6, 6)], number of steps: 6\n",
      "going diagonal, current point: (7,7)\n",
      "path:[(1, 1), (2, 2), (3, 3), (4, 4), (5, 5), (6, 6), (7, 7)], number of steps: 7\n",
      "going right, current point:(8,7), faced obstacle:(8,8)\n",
      "path:[(1, 1), (2, 2), (3, 3), (4, 4), (5, 5), (6, 6), (7, 7), (8, 7)], number of steps: 8\n",
      "going diagonal, current point: (9,8)\n",
      "path:[(1, 1), (2, 2), (3, 3), (4, 4), (5, 5), (6, 6), (7, 7), (8, 7), (9, 8)], number of steps: 9\n",
      "path:[(1, 1), (2, 2), (3, 3), (4, 4), (5, 5), (6, 6), (7, 7), (8, 7), (9, 8), (9, 9)], number of steps: 10\n"
     ]
    }
   ],
   "source": [
    "Phase1=Solution()\n",
    "Phase1.move()"
   ]
  },
  {
   "cell_type": "code",
   "execution_count": 11,
   "metadata": {},
   "outputs": [
    {
     "name": "stdout",
     "output_type": "stream",
     "text": [
      "going diagonal, current point: (1,1)\n",
      "path:[(1, 1)], number of steps: 1\n",
      "going diagonal, current point: (2,2)\n",
      "path:[(1, 1), (2, 2)], number of steps: 2\n",
      "going diagonal, current point: (3,3)\n",
      "path:[(1, 1), (2, 2), (3, 3)], number of steps: 3\n",
      "going diagonal, current point: (4,4)\n",
      "path:[(1, 1), (2, 2), (3, 3), (4, 4)], number of steps: 4\n",
      "going diagonal, current point: (5,5)\n",
      "path:[(1, 1), (2, 2), (3, 3), (4, 4), (5, 5)], number of steps: 5\n",
      "going diagonal, current point: (6,6)\n",
      "path:[(1, 1), (2, 2), (3, 3), (4, 4), (5, 5), (6, 6)], number of steps: 6\n",
      "going diagonal, current point: (7,7)\n",
      "path:[(1, 1), (2, 2), (3, 3), (4, 4), (5, 5), (6, 6), (7, 7)], number of steps: 7\n",
      "going right, current point:(8,7), faced obstacle:(8,8)\n",
      "path:[(1, 1), (2, 2), (3, 3), (4, 4), (5, 5), (6, 6), (7, 7), (8, 7)], number of steps: 8\n",
      "going diagonal, current point: (9,8)\n",
      "path:[(1, 1), (2, 2), (3, 3), (4, 4), (5, 5), (6, 6), (7, 7), (8, 7), (9, 8)], number of steps: 9\n",
      "path:[(1, 1), (2, 2), (3, 3), (4, 4), (5, 5), (6, 6), (7, 7), (8, 7), (9, 8), (9, 9)], number of steps: 10\n"
     ]
    }
   ],
   "source": [
    "Phase2=Solution()\n",
    "Phase2.add(20)\n",
    "Phase2.move()"
   ]
  },
  {
   "cell_type": "code",
   "execution_count": null,
   "metadata": {},
   "outputs": [],
   "source": []
  }
 ],
 "metadata": {
  "kernelspec": {
   "display_name": "Python 3.9.7 ('base')",
   "language": "python",
   "name": "python3"
  },
  "language_info": {
   "codemirror_mode": {
    "name": "ipython",
    "version": 3
   },
   "file_extension": ".py",
   "mimetype": "text/x-python",
   "name": "python",
   "nbconvert_exporter": "python",
   "pygments_lexer": "ipython3",
   "version": "3.9.7"
  },
  "orig_nbformat": 4,
  "vscode": {
   "interpreter": {
    "hash": "c4743f3265159d618cbfb7986907cf5d87d97b4cb2417375c3879348497beb2d"
   }
  }
 },
 "nbformat": 4,
 "nbformat_minor": 2
}
